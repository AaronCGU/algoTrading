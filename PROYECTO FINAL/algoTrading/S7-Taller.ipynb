{
 "cells": [
  {
   "cell_type": "markdown",
   "id": "becd661c-d8b4-45ba-a932-e99e6e0daaac",
   "metadata": {},
   "source": [
    "# Curso: Trading Algorítmico con Python \n",
    "**Docente**: Frank Ygnacio Rosas, CQF, MFM.\n",
    "<br>**Título de la sesión**: Modelos Exógeno y Endógeno. Combinatorial Backtest (taller).  </br>\n",
    "**Número de Sesión**: 7 </br>\n",
    "Curso dictado para Edúcate Perú Consultores."
   ]
  },
  {
   "cell_type": "markdown",
   "id": "670c884d-730c-43c6-a209-69c27bb05f94",
   "metadata": {},
   "source": [
    "***"
   ]
  },
  {
   "cell_type": "markdown",
   "id": "c8ab7dd1-997c-49ae-bb68-f2cdf9c32366",
   "metadata": {},
   "source": [
    "# backtestComputation.py"
   ]
  },
  {
   "cell_type": "code",
   "execution_count": 4,
   "id": "da824984-2130-4f4d-820e-03f4e0b07d5a",
   "metadata": {},
   "outputs": [
    {
     "name": "stdout",
     "output_type": "stream",
     "text": [
      "> Iniciando proceso de backtest\n"
     ]
    },
    {
     "name": "stderr",
     "output_type": "stream",
     "text": [
      "2024-11-23 19:54:39,082\tINFO worker.py:1649 -- Calling ray.init() again after it has already been called.\n"
     ]
    },
    {
     "name": "stdout",
     "output_type": "stream",
     "text": [
      "> Tuning de modelos exógenos\n",
      "::>> Tuning modelo exógeno: RandomForest\n",
      "Mejores parámetros: {'max_depth': 10, 'n_estimators': 100}\n",
      "Mejor score: 0.6219550600051068\n",
      "::>> Tuning modelo exógeno: LogisticRegression\n",
      "Mejores parámetros: {'C': 10, 'solver': 'liblinear'}\n",
      "Mejor score: 0.5839943825006383\n",
      "> Seleccionando el mejor modelo exógeno basado en accuracy completa\n",
      "::>> Modelo: RandomForest, Accuracy: 0.642990892841944\n",
      "::>> Modelo: LogisticRegression, Accuracy: 0.5854242914290578\n",
      "> Mejor modelo exógeno: RandomForest con accuracy 0.642990892841944\n",
      "::>> Modelo exógeno guardado en C:/Users/Dell/Desktop/OTROS/TRADING ALGORITMICO CON PYTHON/S7 BACKTESTING/algoTrading/backtestResults/exogenous_model_RandomForest.pkl\n",
      "> Entrenando el modelo endógeno para BetSize\n",
      "::>> Modelo endógeno guardado en C:/Users/Dell/Desktop/OTROS/TRADING ALGORITMICO CON PYTHON/S7 BACKTESTING/algoTrading/backtestResults/endogenous_model.pkl\n",
      "> Ejecutando backtest con Combinatorial Cross-Validation\n"
     ]
    },
    {
     "name": "stderr",
     "output_type": "stream",
     "text": [
      "------> Ejecutando splits de backtest:   0%|          | 0/3 [00:00<?, ?it/s]"
     ]
    },
    {
     "name": "stdout",
     "output_type": "stream",
     "text": [
      "::>> Split 1/3\n"
     ]
    },
    {
     "name": "stderr",
     "output_type": "stream",
     "text": [
      "------> Ejecutando splits de backtest:  33%|███▎      | 1/3 [01:19<02:39, 79.64s/it]"
     ]
    },
    {
     "name": "stdout",
     "output_type": "stream",
     "text": [
      "::>> Split 2/3\n"
     ]
    },
    {
     "name": "stderr",
     "output_type": "stream",
     "text": [
      "------> Ejecutando splits de backtest:  67%|██████▋   | 2/3 [02:46<01:23, 83.83s/it]"
     ]
    },
    {
     "name": "stdout",
     "output_type": "stream",
     "text": [
      "::>> Split 3/3\n"
     ]
    },
    {
     "name": "stderr",
     "output_type": "stream",
     "text": [
      "------> Ejecutando splits de backtest: 100%|██████████| 3/3 [04:25<00:00, 88.51s/it]"
     ]
    },
    {
     "name": "stdout",
     "output_type": "stream",
     "text": [
      "> Resultados del backtest guardados en C:/Users/Dell/Desktop/OTROS/TRADING ALGORITMICO CON PYTHON/S7 BACKTESTING/algoTrading/backtestResults/backtest_results_20241123_202140.csv\n"
     ]
    },
    {
     "name": "stderr",
     "output_type": "stream",
     "text": [
      "\n"
     ]
    }
   ],
   "source": [
    "# -*- coding: utf-8 -*-\n",
    "\"\"\"\n",
    "Created on Sat Oct 19 14:37:39 2024\n",
    "\n",
    "@author: frank\n",
    "\"\"\"\n",
    "# Importamos funcionalidades del stage Backtest\n",
    "from backtestStage import organizingData, tradingEco\n",
    "\n",
    "# Importamos modelos de Scikit-Learn\n",
    "from sklearn.ensemble import RandomForestClassifier\n",
    "from sklearn.linear_model import LogisticRegression\n",
    "\n",
    "\n",
    "# I) Leemos los .csv de features, labels y precios\n",
    "# genPath = \"C:/Users/frank/Desktop/algoTrading/ProcessedFeatures\"\n",
    "genPath = \"C:/Users/Dell/Desktop/OTROS/TRADING ALGORITMICO CON PYTHON/S7 BACKTESTING/algoTrading/ProcessedFeatures\"\n",
    "features_filename = \"stacked_scaled_features.csv\"\n",
    "labels_filename = \"aligned_labels.csv\"\n",
    "prices_filename = \"aligned_tprices.csv\"\n",
    "\n",
    "#    Almacenamos la informacion\n",
    "features, labels, prices = organizingData(\n",
    "    genPath, features_filename, labels_filename, prices_filename\n",
    "    )\n",
    "\n",
    "\n",
    "# II) Inicializamos la clase con los datos de features, labels y precios\n",
    "trader = tradingEco(features=features, labels=labels.TripleBarrier, prices=prices)\n",
    "\n",
    "#    Definimos modelos exógenos y sus grids de parámetros para el tuning\n",
    "dict_exo_models = {\n",
    "    'RandomForest': (\n",
    "        RandomForestClassifier(random_state=42), \n",
    "        {\n",
    "            'n_estimators': [50, 100],\n",
    "            'max_depth': [10, 30]\n",
    "        }\n",
    "    ),\n",
    "    'LogisticRegression': (\n",
    "        LogisticRegression(max_iter=1000, random_state=42), \n",
    "        {\n",
    "            'C': [0.1, 10],\n",
    "            'solver': ['liblinear']\n",
    "        }\n",
    "    )\n",
    "}\n",
    "\n",
    "#   Definimos el modelo endógeno para BetSize (usualmente, un mod. de arboles)\n",
    "endogenous_model = RandomForestClassifier(random_state=42, n_estimators=100)\n",
    "\n",
    "# III) Definimos los parámetros del backtest\n",
    "N = 3 # Grupos\n",
    "k = 2 # Particiones\n",
    "capital = 10000 # Capital inicial (en USD)\n",
    "commissions = 0 # Comisiones (en USD)\n",
    "activate_tuning = True  # False solo cuando ya se tiene los modelos tuneados\n",
    "path_location = \"C:/Users/Dell/Desktop/OTROS/TRADING ALGORITMICO CON PYTHON/S7 BACKTESTING/algoTrading/backtestResults\"  # Reemplazar con la ruta deseada\n",
    "# path_location = 'C:/Users/frank/Desktop/algoTrading/backtestResults'  # Reemplazar con la ruta deseada\n",
    "name_model_pickle_file = 'exogenous_model_testn1.pkl'  # Nombre de Archivo pickle si activate_tuning=False\n",
    "num_cpus = 2 # CPU's a utilizarse con RAY\n",
    "\n",
    "# Ejecutar el proceso \n",
    "trader.get_multi_process(\n",
    "    dict_exo_models=dict_exo_models,\n",
    "    endogenous_model=endogenous_model,\n",
    "    N=N,\n",
    "    k=k,\n",
    "    capital=capital,\n",
    "    commissions=commissions,\n",
    "    activate_tuning=activate_tuning,\n",
    "    path_location=path_location,\n",
    "    #name_model_pickle_file=name_model_pickle_file,\n",
    "    num_cpus=num_cpus\n",
    ")"
   ]
  }
 ],
 "metadata": {
  "kernelspec": {
   "display_name": "Python 3 (ipykernel)",
   "language": "python",
   "name": "python3"
  },
  "language_info": {
   "codemirror_mode": {
    "name": "ipython",
    "version": 3
   },
   "file_extension": ".py",
   "mimetype": "text/x-python",
   "name": "python",
   "nbconvert_exporter": "python",
   "pygments_lexer": "ipython3",
   "version": "3.12.4"
  }
 },
 "nbformat": 4,
 "nbformat_minor": 5
}
