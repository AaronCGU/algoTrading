{
 "cells": [
  {
   "cell_type": "markdown",
   "id": "becd661c-d8b4-45ba-a932-e99e6e0daaac",
   "metadata": {},
   "source": [
    "# Curso: Trading Algorítmico con Python \n",
    "**Docente**: Frank Ygnacio Rosas, CQF, MFM.\n",
    "<br>**Título de la sesión**: Modelos Exógeno y Endógeno. Combinatorial Backtest (taller).  </br>\n",
    "**Número de Sesión**: 7 </br>\n",
    "Curso dictado para Edúcate Perú Consultores."
   ]
  },
  {
   "cell_type": "markdown",
   "id": "670c884d-730c-43c6-a209-69c27bb05f94",
   "metadata": {},
   "source": [
    "***"
   ]
  },
  {
   "cell_type": "markdown",
   "id": "c8ab7dd1-997c-49ae-bb68-f2cdf9c32366",
   "metadata": {},
   "source": [
    "# backtestComputation.py"
   ]
  },
  {
   "cell_type": "code",
   "execution_count": 5,
   "id": "da824984-2130-4f4d-820e-03f4e0b07d5a",
   "metadata": {},
   "outputs": [
    {
     "ename": "ModuleNotFoundError",
     "evalue": "No module named 'backtestStage'",
     "output_type": "error",
     "traceback": [
      "\u001b[1;31m---------------------------------------------------------------------------\u001b[0m",
      "\u001b[1;31mModuleNotFoundError\u001b[0m                       Traceback (most recent call last)",
      "Cell \u001b[1;32mIn[5], line 8\u001b[0m\n\u001b[0;32m      2\u001b[0m \u001b[38;5;124;03m\"\"\"\u001b[39;00m\n\u001b[0;32m      3\u001b[0m \u001b[38;5;124;03mCreated on Sat Oct 19 14:37:39 2024\u001b[39;00m\n\u001b[0;32m      4\u001b[0m \n\u001b[0;32m      5\u001b[0m \u001b[38;5;124;03m@author: frank\u001b[39;00m\n\u001b[0;32m      6\u001b[0m \u001b[38;5;124;03m\"\"\"\u001b[39;00m\n\u001b[0;32m      7\u001b[0m \u001b[38;5;66;03m# Importamos funcionalidades del stage Backtest\u001b[39;00m\n\u001b[1;32m----> 8\u001b[0m \u001b[38;5;28;01mfrom\u001b[39;00m \u001b[38;5;21;01mbacktestStage\u001b[39;00m \u001b[38;5;28;01mimport\u001b[39;00m organizingData, tradingEco\n\u001b[0;32m     10\u001b[0m \u001b[38;5;66;03m# Importamos modelos de Scikit-Learn\u001b[39;00m\n\u001b[0;32m     11\u001b[0m \u001b[38;5;28;01mfrom\u001b[39;00m \u001b[38;5;21;01msklearn\u001b[39;00m\u001b[38;5;21;01m.\u001b[39;00m\u001b[38;5;21;01mensemble\u001b[39;00m \u001b[38;5;28;01mimport\u001b[39;00m RandomForestClassifier\n",
      "\u001b[1;31mModuleNotFoundError\u001b[0m: No module named 'backtestStage'"
     ]
    }
   ],
   "source": [
    "# -*- coding: utf-8 -*-\n",
    "\"\"\"\n",
    "Created on Sat Oct 19 14:37:39 2024\n",
    "\n",
    "@author: frank\n",
    "\"\"\"\n",
    "# Importamos funcionalidades del stage Backtest\n",
    "from backtestStage import organizingData, tradingEco\n",
    "\n",
    "# Importamos modelos de Scikit-Learn\n",
    "from sklearn.ensemble import RandomForestClassifier\n",
    "from sklearn.linear_model import LogisticRegression\n",
    "\n",
    "\n",
    "# I) Leemos los .csv de features, labels y precios\n",
    "# genPath = \"C:/Users/frank/Desktop/algoTrading/ProcessedFeatures\"\n",
    "genPath = \"C:/Users/Dell/Desktop/OTROS/TRADING ALGORITMICO CON PYTHON/S7 BACKTESTING/algoTrading/ProcessedFeatures\"\n",
    "features_filename = \"stacked_scaled_features.csv\"\n",
    "labels_filename = \"aligned_labels.csv\"\n",
    "prices_filename = \"aligned_tprices.csv\"\n",
    "\n",
    "#    Almacenamos la informacion\n",
    "features, labels, prices = organizingData(\n",
    "    genPath, features_filename, labels_filename, prices_filename\n",
    "    )\n",
    "\n",
    "\n",
    "# II) Inicializamos la clase con los datos de features, labels y precios\n",
    "trader = tradingEco(features=features, labels=labels.TripleBarrier, prices=prices)\n",
    "\n",
    "#    Definimos modelos exógenos y sus grids de parámetros para el tuning\n",
    "dict_exo_models = {\n",
    "    'RandomForest': (\n",
    "        RandomForestClassifier(random_state=42), \n",
    "        {\n",
    "            'n_estimators': [50, 100],\n",
    "            'max_depth': [10, 30]\n",
    "        }\n",
    "    ),\n",
    "    'LogisticRegression': (\n",
    "        LogisticRegression(max_iter=1000, random_state=42), \n",
    "        {\n",
    "            'C': [0.1, 10],\n",
    "            'solver': ['liblinear']\n",
    "        }\n",
    "    )\n",
    "}\n",
    "\n",
    "#   Definimos el modelo endógeno para BetSize (usualmente, un mod. de arboles)\n",
    "endogenous_model = RandomForestClassifier(random_state=42, n_estimators=100)\n",
    "\n",
    "# III) Definimos los parámetros del backtest\n",
    "N = 3 # Grupos\n",
    "k = 2 # Particiones\n",
    "capital = 10000 # Capital inicial (en USD)\n",
    "commissions = 0 # Comisiones (en USD)\n",
    "activate_tuning = True  # False solo cuando ya se tiene los modelos tuneados\n",
    "path_location = 'C:/Users/frank/Desktop/algoTrading/backtestResults'  # Reemplazar con la ruta deseada\n",
    "name_model_pickle_file = 'exogenous_model_testn1.pkl'  # Nombre de Archivo pickle si activate_tuning=False\n",
    "num_cpus = 2 # CPU's a utilizarse con RAY\n",
    "\n",
    "# Ejecutar el proceso \n",
    "trader.get_multi_process(\n",
    "    dict_exo_models=dict_exo_models,\n",
    "    endogenous_model=endogenous_model,\n",
    "    N=N,\n",
    "    k=k,\n",
    "    capital=capital,\n",
    "    commissions=commissions,\n",
    "    activate_tuning=activate_tuning,\n",
    "    path_location=path_location,\n",
    "    #name_model_pickle_file=name_model_pickle_file,\n",
    "    num_cpus=num_cpus\n",
    ")"
   ]
  }
 ],
 "metadata": {
  "kernelspec": {
   "display_name": "Python 3 (ipykernel)",
   "language": "python",
   "name": "python3"
  },
  "language_info": {
   "codemirror_mode": {
    "name": "ipython",
    "version": 3
   },
   "file_extension": ".py",
   "mimetype": "text/x-python",
   "name": "python",
   "nbconvert_exporter": "python",
   "pygments_lexer": "ipython3",
   "version": "3.12.4"
  }
 },
 "nbformat": 4,
 "nbformat_minor": 5
}
